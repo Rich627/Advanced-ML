{
 "cells": [
  {
   "cell_type": "markdown",
   "metadata": {},
   "source": [
    "#### 這個Notebook參考了這篇文章\n",
    "https://itnext.io/visualize-your-rag-data-eda-for-retrieval-augmented-generation-0701ee98768f\n",
    "#### 上面作者的Code\n",
    "https://github.com/Renumics/renumics-rag/blob/main/notebooks/visualize_rag_tutorial.ipynb\n",
    "#### 其他相關文章\n",
    "##### Llama: https://huggingface.co/TheBloke/Llama-2-7B-Chat-GGUF/tree/main<br>\n",
    "##### Laungchain: https://python.langchain.com/docs/integrations/chat/llama2_chat<br>\n",
    "##### Quantization: https://chih-sheng-huang821.medium.com/ai%E6%A8%A1%E5%9E%8B%E5%A3%93%E7%B8%AE%E6%8A%80%E8%A1%93-%E9%87%8F%E5%8C%96-quantization-966505128365<br>\n",
    "##### Embedding: https://medium.com/@fredericklee_73485/word-embedding%E5%92%8Cword2vec%E7%B0%A1%E4%BB%8B-c9c874f48364"
   ]
  },
  {
   "cell_type": "code",
   "execution_count": 33,
   "metadata": {},
   "outputs": [],
   "source": [
    "import os\n",
    "\n",
    "os.environ[\"OPENAI_API_KEY\"] = ''"
   ]
  },
  {
   "cell_type": "code",
   "execution_count": 34,
   "metadata": {},
   "outputs": [],
   "source": [
    "from langchain_openai import OpenAIEmbeddings\n",
    "from langchain.vectorstores.chroma import Chroma\n",
    "\n",
    "# 透過OpenAIEmbedding做Embedding\n",
    "embeddings_model = OpenAIEmbeddings(model=\"text-embedding-ada-002\")\n",
    "docs_vectorstore = Chroma(\n",
    "    collection_name=\"docs_store\",\n",
    "    embedding_function=embeddings_model,\n",
    "    persist_directory=\"html-db\"\n",
    ")"
   ]
  },
  {
   "cell_type": "code",
   "execution_count": 35,
   "metadata": {},
   "outputs": [
    {
     "name": "stderr",
     "output_type": "stream",
     "text": [
      "100%|██████████| 7/7 [00:01<00:00,  4.52it/s]\n"
     ]
    }
   ],
   "source": [
    "from langchain_community.document_loaders import BSHTMLLoader, DirectoryLoader\n",
    "\n",
    "# 解析hmtl file\n",
    "loader = DirectoryLoader(\n",
    "    \"/Users/rich/Desktop/Advanced-ML/RAG/Demo/html\",\n",
    "    glob=\"*.html\",\n",
    "    loader_cls=BSHTMLLoader,\n",
    "    loader_kwargs={\"open_encoding\": \"utf-8\"},\n",
    "    recursive=True,\n",
    "    show_progress=True,\n",
    ")\n",
    "docs = loader.load()"
   ]
  },
  {
   "cell_type": "code",
   "execution_count": 36,
   "metadata": {},
   "outputs": [],
   "source": [
    "# 切成100個chunk size 太大的話token會爆掉\n",
    "from langchain.text_splitter import RecursiveCharacterTextSplitter\n",
    "\n",
    "text_splitter = RecursiveCharacterTextSplitter(\n",
    "    chunk_size=100, chunk_overlap=20, add_start_index=True\n",
    ")\n",
    "splits = text_splitter.split_documents(docs)"
   ]
  },
  {
   "cell_type": "code",
   "execution_count": 37,
   "metadata": {},
   "outputs": [],
   "source": [
    "# 使用hash function 打亂數據並給定唯一的id\n",
    "import hashlib\n",
    "import json\n",
    "from langchain.docstore.document import Document\n",
    "\n",
    "def stable_hash(doc: Document) -> str:\n",
    "    return hashlib.sha256(json.dumps(doc.metadata, sort_keys=True).encode()).hexdigest()\n",
    "\n",
    "unique_docs = []\n",
    "unique_ids = set()\n",
    "\n",
    "for doc in splits:\n",
    "    doc_id = stable_hash(doc)\n",
    "    if doc_id not in unique_ids:\n",
    "        unique_docs.append(doc)\n",
    "        unique_ids.add(doc_id)\n",
    "\n",
    "docs_vectorstore.add_documents(unique_docs, ids=list(unique_ids))\n",
    "docs_vectorstore.persist()"
   ]
  },
  {
   "cell_type": "code",
   "execution_count": 38,
   "metadata": {},
   "outputs": [],
   "source": [
    "# 創建Retriever, 選擇top k=20\n",
    "from langchain_openai import ChatOpenAI\n",
    "\n",
    "llm = ChatOpenAI(model=\"gpt-4\", temperature=0.0)\n",
    "retriever = docs_vectorstore.as_retriever(search_kwargs={\"k\": 20})"
   ]
  },
  {
   "cell_type": "code",
   "execution_count": 39,
   "metadata": {},
   "outputs": [],
   "source": [
    "# 建立Prompt template\n",
    "from langchain_core.prompts import ChatPromptTemplate\n",
    "\n",
    "template = \"\"\"\n",
    "You are an assistant for question-answering tasks.\n",
    "Given the following extracted parts of a long document and a question, create a final answer with references (\"SOURCES\").\n",
    "If you don't know the answer, just say that you don't know. Don't try to make up an answer.\n",
    "ALWAYS return a \"SOURCES\" part in your answer.\n",
    "\n",
    "QUESTION: {question}\n",
    "=========\n",
    "{source_documents}\n",
    "=========\n",
    "FINAL ANSWER: \"\"\"\n",
    "prompt = ChatPromptTemplate.from_template(template)"
   ]
  },
  {
   "cell_type": "code",
   "execution_count": 40,
   "metadata": {},
   "outputs": [],
   "source": [
    "from typing import List\n",
    "\n",
    "from langchain_core.runnables import RunnableParallel, RunnablePassthrough\n",
    "from langchain_core.output_parsers import StrOutputParser\n",
    "\n",
    "# 轉換一下document\n",
    "def format_docs(docs: List[Document]) -> str:\n",
    "    return \"\\n\\n\".join(\n",
    "        f\"Content: {doc.page_content}\\nSource: {doc.metadata['source']}\" for doc in docs\n",
    "    )\n",
    "\n",
    "# 格式化ouptu\n",
    "rag_chain_from_docs = (\n",
    "    RunnablePassthrough.assign(\n",
    "        source_documents=(lambda x: format_docs(x[\"source_documents\"]))\n",
    "    )\n",
    "    | prompt\n",
    "    | llm\n",
    "    | StrOutputParser()\n",
    ")\n",
    "\n",
    "# 建立平行處理流程產生過ans\n",
    "rag_chain = RunnableParallel(\n",
    "    {\n",
    "        \"source_documents\": retriever,\n",
    "        \"question\": RunnablePassthrough(),\n",
    "    }\n",
    ").assign(answer=rag_chain_from_docs)"
   ]
  },
  {
   "cell_type": "code",
   "execution_count": 41,
   "metadata": {},
   "outputs": [
    {
     "name": "stdout",
     "output_type": "stream",
     "text": [
      "最近的地震發生在日本的能登半島，規模為7.6級。這次地震的最大震度7在志賀町及輪島市測得，是氣象廳震度等級最強烈等級。此外，這次地震還引發了海嘯，並導致石川縣多棟建築物倒塌，至少有36,000戶家庭斷電。另外，受地震影響，石川縣珠洲市川浦町的海岸線往海洋的方向移動約175公尺，災區沿岸多出240公頃的陸地。\n",
      "\n",
      "SOURCES: \n",
      "- 2024年能登半島地震 - 維基百科，自由的百科全書.html\n",
      "- 日本石川7.6強震發「大海嘯警報」　中央氣象署也發聲了. TVBS新聞網. 2024-01-01\n",
      "- 日本地震｜能登7.6級強震屬「餘震」？專家：或與地下水有關. 2024-01-02\n",
      "- 日本地理學會調查隊於2024年1月4日發表能登半島海岸地形首次報告，表示受本次地震活動影響，石川県珠洲市川浦町的海岸線往海洋的方向移動約175公尺[92]。災區沿岸多出240公頃的陸地[93]。東京\n"
     ]
    }
   ],
   "source": [
    "question = \"日本好像最近有地震, 你知道是哪裡嗎？ 規模和強度多大, 好像有引發其他自然災害\"\n",
    "rag_response = rag_chain.invoke(question)\n",
    "rag_answer = rag_response[\"answer\"]\n",
    "print(rag_answer)"
   ]
  },
  {
   "cell_type": "code",
   "execution_count": 42,
   "metadata": {},
   "outputs": [
    {
     "name": "stdout",
     "output_type": "stream",
     "text": [
      "content='對不起，作為一個AI，我無法提供即時的新聞更新或災害報告。請查詢最新的新聞來獲得最準確的信息。' response_metadata={'token_usage': {'completion_tokens': 60, 'prompt_tokens': 57, 'total_tokens': 117}, 'model_name': 'gpt-4', 'system_fingerprint': None, 'finish_reason': 'stop', 'logprobs': None} id='run-ea8cc6b2-8c40-4ce3-af8a-bd6aece1532c-0'\n"
     ]
    }
   ],
   "source": [
    "from langchain.schema import HumanMessage, AIMessage\n",
    "\n",
    "human_message = HumanMessage(content=question)\n",
    "default_answer = llm([human_message])\n",
    "print(default_answer)"
   ]
  },
  {
   "cell_type": "code",
   "execution_count": 43,
   "metadata": {},
   "outputs": [
    {
     "data": {
      "text/html": [
       "<div>\n",
       "<style scoped>\n",
       "    .dataframe tbody tr th:only-of-type {\n",
       "        vertical-align: middle;\n",
       "    }\n",
       "\n",
       "    .dataframe tbody tr th {\n",
       "        vertical-align: top;\n",
       "    }\n",
       "\n",
       "    .dataframe thead th {\n",
       "        text-align: right;\n",
       "    }\n",
       "</style>\n",
       "<table border=\"1\" class=\"dataframe\">\n",
       "  <thead>\n",
       "    <tr style=\"text-align: right;\">\n",
       "      <th></th>\n",
       "      <th>id</th>\n",
       "      <th>source</th>\n",
       "      <th>document</th>\n",
       "      <th>embedding</th>\n",
       "    </tr>\n",
       "  </thead>\n",
       "  <tbody>\n",
       "    <tr>\n",
       "      <th>0</th>\n",
       "      <td>0032519935d77c04b3fdd6496f68aa315314f2a4e5e05d...</td>\n",
       "      <td>/Users/rich/Desktop/Advanced-ML/RAG/Demo/html/...</td>\n",
       "      <td>Jeux）[1]參賽國家及地區206（＋難民代表團）（預計）參賽運動員10,500人（預計）...</td>\n",
       "      <td>[-0.006430391222238541, -0.023623986169695854,...</td>\n",
       "    </tr>\n",
       "    <tr>\n",
       "      <th>1</th>\n",
       "      <td>004a56cb9f5c43d6f03bd249e7e00a2a249202de139507...</td>\n",
       "      <td>/Users/rich/Desktop/Advanced-ML/RAG/Demo/html/...</td>\n",
       "      <td>地震後工力所強震動觀測中心共收取距震央100公里範圍內實時強震儀記錄8組、震度儀記錄18組，...</td>\n",
       "      <td>[-0.010626446455717087, -0.0015783696435391903...</td>\n",
       "    </tr>\n",
       "    <tr>\n",
       "      <th>2</th>\n",
       "      <td>0050426e09232666b3f01fac9302d039204a563c314e5c...</td>\n",
       "      <td>/Users/rich/Desktop/Advanced-ML/RAG/Demo/html/...</td>\n",
       "      <td>2011年 雲南盈江\\n2012年 新疆新源\\n2012年 江蘇揚州\\n2012年 雲南彝良...</td>\n",
       "      <td>[-0.0279183741658926, -0.027891242876648903, 0...</td>\n",
       "    </tr>\n",
       "    <tr>\n",
       "      <th>3</th>\n",
       "      <td>008044e9a062d6f2952bcfd0f6e22680f230a530a1ae37...</td>\n",
       "      <td>/Users/rich/Desktop/Advanced-ML/RAG/Demo/html/...</td>\n",
       "      <td>1\\n\\n●\\n\\n●\\n\\n●\\n\\n●\\n\\n1\\n\\n1\\n\\n\\n\\n5\\n\\n\\n...</td>\n",
       "      <td>[-0.0010993037139996886, -0.003849636996164918...</td>\n",
       "    </tr>\n",
       "    <tr>\n",
       "      <th>4</th>\n",
       "      <td>009f079500e8a869a97c7b9a8d79c00ecb4f4f07805409...</td>\n",
       "      <td>/Users/rich/Desktop/Advanced-ML/RAG/Demo/html/...</td>\n",
       "      <td>2\\n\\n1\\n\\n5\\n\\n3\\n\\n3\\n\\n5\\n\\n5\\n\\n6\\n\\n8\\n\\n9...</td>\n",
       "      <td>[-0.003479189705103636, 0.0020086567383259535,...</td>\n",
       "    </tr>\n",
       "    <tr>\n",
       "      <th>...</th>\n",
       "      <td>...</td>\n",
       "      <td>...</td>\n",
       "      <td>...</td>\n",
       "      <td>...</td>\n",
       "    </tr>\n",
       "    <tr>\n",
       "      <th>1343</th>\n",
       "      <td>ff1a0d671cccb42fc4d3225482e8776bc58879a2e9fbed...</td>\n",
       "      <td>/Users/rich/Desktop/Advanced-ML/RAG/Demo/html/...</td>\n",
       "      <td>強烈搖晃。[7][8][9]主震發生後九分鐘，還發生了一次6.2的餘震[10]。</td>\n",
       "      <td>[-0.010467174462974072, -0.020857101306319237,...</td>\n",
       "    </tr>\n",
       "    <tr>\n",
       "      <th>1344</th>\n",
       "      <td>ff329630356ab2628c855aae443a1ae1998416efa7ae6d...</td>\n",
       "      <td>/Users/rich/Desktop/Advanced-ML/RAG/Demo/html/...</td>\n",
       "      <td>2003年 新疆昭蘇\\n2005年 江西九江\\n2006年 雲南鹽津\\n2008年 四川汶川...</td>\n",
       "      <td>[-0.0169531237334013, -0.030072422698140144, 0...</td>\n",
       "    </tr>\n",
       "    <tr>\n",
       "      <th>1345</th>\n",
       "      <td>ff36fefd57b10cebb7d566c16957f183a8615e504f6422...</td>\n",
       "      <td>/Users/rich/Desktop/Advanced-ML/RAG/Demo/html/...</td>\n",
       "      <td>本頁面最後修訂於2024年3月27日 (星期三) 09:32。\\n本站的全部文字在創用CC ...</td>\n",
       "      <td>[-0.002300066174939275, -0.006432190537452698,...</td>\n",
       "    </tr>\n",
       "    <tr>\n",
       "      <th>1346</th>\n",
       "      <td>ff845fe4fab0cc09835733eaf5e6f59e961b2a3ed48c68...</td>\n",
       "      <td>/Users/rich/Desktop/Advanced-ML/RAG/Demo/html/...</td>\n",
       "      <td>facilities in the Paris area (ex. Versailles)</td>\n",
       "      <td>[-0.009839951992034912, -0.018048899248242378,...</td>\n",
       "    </tr>\n",
       "    <tr>\n",
       "      <th>1347</th>\n",
       "      <td>ffe91ef5d0edacafcdd764da397085bc8ed3d2d717ad3c...</td>\n",
       "      <td>/Users/rich/Desktop/Advanced-ML/RAG/Demo/html/...</td>\n",
       "      <td>（中文（繁體））. 日本氣象廳已於2日10時解除了對日本海沿岸(北海道至中國地區)、壹岐·對...</td>\n",
       "      <td>[-0.025125691667199135, -0.002842310583218932,...</td>\n",
       "    </tr>\n",
       "  </tbody>\n",
       "</table>\n",
       "<p>1348 rows × 4 columns</p>\n",
       "</div>"
      ],
      "text/plain": [
       "                                                     id  \\\n",
       "0     0032519935d77c04b3fdd6496f68aa315314f2a4e5e05d...   \n",
       "1     004a56cb9f5c43d6f03bd249e7e00a2a249202de139507...   \n",
       "2     0050426e09232666b3f01fac9302d039204a563c314e5c...   \n",
       "3     008044e9a062d6f2952bcfd0f6e22680f230a530a1ae37...   \n",
       "4     009f079500e8a869a97c7b9a8d79c00ecb4f4f07805409...   \n",
       "...                                                 ...   \n",
       "1343  ff1a0d671cccb42fc4d3225482e8776bc58879a2e9fbed...   \n",
       "1344  ff329630356ab2628c855aae443a1ae1998416efa7ae6d...   \n",
       "1345  ff36fefd57b10cebb7d566c16957f183a8615e504f6422...   \n",
       "1346  ff845fe4fab0cc09835733eaf5e6f59e961b2a3ed48c68...   \n",
       "1347  ffe91ef5d0edacafcdd764da397085bc8ed3d2d717ad3c...   \n",
       "\n",
       "                                                 source  \\\n",
       "0     /Users/rich/Desktop/Advanced-ML/RAG/Demo/html/...   \n",
       "1     /Users/rich/Desktop/Advanced-ML/RAG/Demo/html/...   \n",
       "2     /Users/rich/Desktop/Advanced-ML/RAG/Demo/html/...   \n",
       "3     /Users/rich/Desktop/Advanced-ML/RAG/Demo/html/...   \n",
       "4     /Users/rich/Desktop/Advanced-ML/RAG/Demo/html/...   \n",
       "...                                                 ...   \n",
       "1343  /Users/rich/Desktop/Advanced-ML/RAG/Demo/html/...   \n",
       "1344  /Users/rich/Desktop/Advanced-ML/RAG/Demo/html/...   \n",
       "1345  /Users/rich/Desktop/Advanced-ML/RAG/Demo/html/...   \n",
       "1346  /Users/rich/Desktop/Advanced-ML/RAG/Demo/html/...   \n",
       "1347  /Users/rich/Desktop/Advanced-ML/RAG/Demo/html/...   \n",
       "\n",
       "                                               document  \\\n",
       "0     Jeux）[1]參賽國家及地區206（＋難民代表團）（預計）參賽運動員10,500人（預計）...   \n",
       "1     地震後工力所強震動觀測中心共收取距震央100公里範圍內實時強震儀記錄8組、震度儀記錄18組，...   \n",
       "2     2011年 雲南盈江\\n2012年 新疆新源\\n2012年 江蘇揚州\\n2012年 雲南彝良...   \n",
       "3     1\\n\\n●\\n\\n●\\n\\n●\\n\\n●\\n\\n1\\n\\n1\\n\\n\\n\\n5\\n\\n\\n...   \n",
       "4     2\\n\\n1\\n\\n5\\n\\n3\\n\\n3\\n\\n5\\n\\n5\\n\\n6\\n\\n8\\n\\n9...   \n",
       "...                                                 ...   \n",
       "1343           強烈搖晃。[7][8][9]主震發生後九分鐘，還發生了一次6.2的餘震[10]。   \n",
       "1344  2003年 新疆昭蘇\\n2005年 江西九江\\n2006年 雲南鹽津\\n2008年 四川汶川...   \n",
       "1345  本頁面最後修訂於2024年3月27日 (星期三) 09:32。\\n本站的全部文字在創用CC ...   \n",
       "1346      facilities in the Paris area (ex. Versailles)   \n",
       "1347  （中文（繁體））. 日本氣象廳已於2日10時解除了對日本海沿岸(北海道至中國地區)、壹岐·對...   \n",
       "\n",
       "                                              embedding  \n",
       "0     [-0.006430391222238541, -0.023623986169695854,...  \n",
       "1     [-0.010626446455717087, -0.0015783696435391903...  \n",
       "2     [-0.0279183741658926, -0.027891242876648903, 0...  \n",
       "3     [-0.0010993037139996886, -0.003849636996164918...  \n",
       "4     [-0.003479189705103636, 0.0020086567383259535,...  \n",
       "...                                                 ...  \n",
       "1343  [-0.010467174462974072, -0.020857101306319237,...  \n",
       "1344  [-0.0169531237334013, -0.030072422698140144, 0...  \n",
       "1345  [-0.002300066174939275, -0.006432190537452698,...  \n",
       "1346  [-0.009839951992034912, -0.018048899248242378,...  \n",
       "1347  [-0.025125691667199135, -0.002842310583218932,...  \n",
       "\n",
       "[1348 rows x 4 columns]"
      ]
     },
     "execution_count": 43,
     "metadata": {},
     "output_type": "execute_result"
    }
   ],
   "source": [
    "# 把output轉換成df\n",
    "import pandas as pd\n",
    "\n",
    "response = docs_vectorstore.get(include=[\"metadatas\", \"documents\", \"embeddings\"])\n",
    "df = pd.DataFrame(\n",
    "    {\n",
    "        \"id\": response[\"ids\"],\n",
    "        \"source\": [metadata.get(\"source\") for metadata in response[\"metadatas\"]],\n",
    "        \"document\": response[\"documents\"],\n",
    "        \"embedding\": response[\"embeddings\"],\n",
    "    }\n",
    ")\n",
    "\n",
    "df"
   ]
  },
  {
   "cell_type": "code",
   "execution_count": 44,
   "metadata": {},
   "outputs": [
    {
     "data": {
      "text/plain": [
       "[(Document(page_content='^ 日本地震｜能登7.6級強震屬「餘震」？專家：或與地下水有關. 2024-01-02  [2024-01-02]. （原始內容存檔於2024-01-02）.', metadata={'source': '/Users/rich/Desktop/Advanced-ML/RAG/Demo/html/2024年能登半島地震 - 維基百科，自由的百科全書.html', 'start_index': 26430, 'title': '2024年能登半島地震 - 維基百科，自由的百科全書'}),\n",
       "  0.23312021792779186),\n",
       " (Document(page_content='逆斷層活動。根據日本氣象廳報告，本次地震最大震度7[6]在志賀町及輪島市測得，是氣象廳震度等級最強烈等級，為繼1995年阪神淡路大震災、2004年新潟縣中越地震、2011年東日本大震災、2016年熊本', metadata={'source': '/Users/rich/Desktop/Advanced-ML/RAG/Demo/html/2024年能登半島地震 - 維基百科，自由的百科全書.html', 'start_index': 2536, 'title': '2024年能登半島地震 - 維基百科，自由的百科全書'}),\n",
       "  0.23812513053417206),\n",
       " (Document(page_content='在這種作用下，日本的日本海沿岸出現了一系列斷層，並可能引發許多重大地震。例如，1833年莊內衝地震（英語：1833 Shōnai earthquake）、1940年積丹地震（英語：1940', metadata={'source': '/Users/rich/Desktop/Advanced-ML/RAG/Demo/html/2024年能登半島地震 - 維基百科，自由的百科全書.html', 'start_index': 3108, 'title': '2024年能登半島地震 - 維基百科，自由的百科全書'}),\n",
       "  0.24251015484333038),\n",
       " (Document(page_content='earthquake）、於1964年發生的M7.5的新潟地震，與1983年發生的M7.7日本海中部地震、1993年北海道西南近海地震。在這些60個被評估斷層中，其中就包括了沿西南西-東北東走向的F4', metadata={'source': '/Users/rich/Desktop/Advanced-ML/RAG/Demo/html/2024年能登半島地震 - 維基百科，自由的百科全書.html', 'start_index': 3212, 'title': '2024年能登半島地震 - 維基百科，自由的百科全書'}),\n",
       "  0.2445226013660431),\n",
       " (Document(page_content='地震概況[編輯]', metadata={'source': '/Users/rich/Desktop/Advanced-ML/RAG/Demo/html/2024年能登半島地震 - 維基百科，自由的百科全書.html', 'start_index': 2448, 'title': '2024年能登半島地震 - 維基百科，自由的百科全書'}),\n",
       "  0.24582087993621826),\n",
       " (Document(page_content='日本主題\\n地球科學主題\\n日本地震列表\\n2007年能登半島地震\\n能登群震\\n2023年石川地震\\n2011年3月11日東日本大地震', metadata={'source': '/Users/rich/Desktop/Advanced-ML/RAG/Demo/html/2024年能登半島地震 - 維基百科，自由的百科全書.html', 'start_index': 15898, 'title': '2024年能登半島地震 - 維基百科，自由的百科全書'}),\n",
       "  0.2462839037179947),\n",
       " (Document(page_content='2024年能登半島地震地震、海嘯和隨後的火災後的輪島市美國地質調查局繪製的地震周邊地區地震強地動分布圖（英語：ShakeMap）顯示石川縣的地圖顯示日本的地圖顯示全部震源的位置日期2024年（令和6', metadata={'source': '/Users/rich/Desktop/Advanced-ML/RAG/Demo/html/2024年能登半島地震 - 維基百科，自由的百科全書.html', 'start_index': 1541, 'title': '2024年能登半島地震 - 維基百科，自由的百科全書'}),\n",
       "  0.24844202399253845),\n",
       " (Document(page_content='該地區地震頻發，但這種規模的地震發生是罕見的。在過去的100年裡，在震源250公里範圍內有三次M6.5以上的地震。其中一次發生於1978年3月，在這次地震的北方約200公里，現處吉爾吉斯斯坦境內的的', metadata={'source': '/Users/rich/Desktop/Advanced-ML/RAG/Demo/html/2024年烏什縣地震 - 維基百科，自由的百科全書.html', 'start_index': 2169, 'title': '2024年烏什縣地震 - 維基百科，自由的百科全書'}),\n",
       "  0.25022092461586),\n",
       " (Document(page_content='^ 2024-01-01 15:10:10日本本州西岸近海发生7.4级地震. 福建省地震局廈門地震台.   [2024-01-09]. （原始內容存檔於2024-01-01）.', metadata={'source': '/Users/rich/Desktop/Advanced-ML/RAG/Demo/html/2024年能登半島地震 - 維基百科，自由的百科全書.html', 'start_index': 16119, 'title': '2024年能登半島地震 - 維基百科，自由的百科全書'}),\n",
       "  0.2555280327796936),\n",
       " (Document(page_content='日本地理學會調查隊於2024年1月4日發表能登半島海岸地形首次報告，表示受本次地震活動影響，石川県珠洲市川浦町的海岸線往海洋的方向移動約175公尺[92]。災區沿岸多出240公頃的陸地[93]。東京', metadata={'source': '/Users/rich/Desktop/Advanced-ML/RAG/Demo/html/2024年能登半島地震 - 維基百科，自由的百科全書.html', 'start_index': 13750, 'title': '2024年能登半島地震 - 維基百科，自由的百科全書'}),\n",
       "  0.25577184557914734)]"
      ]
     },
     "execution_count": 44,
     "metadata": {},
     "output_type": "execute_result"
    }
   ],
   "source": [
    "from chromadb.utils import embedding_functions\n",
    "\n",
    "results = docs_vectorstore.similarity_search_with_score(question, k=10)\n",
    "\n",
    "results"
   ]
  }
 ],
 "metadata": {
  "kernelspec": {
   "display_name": "rag-demo-IMu3vKF7-py3.10",
   "language": "python",
   "name": "python3"
  },
  "language_info": {
   "codemirror_mode": {
    "name": "ipython",
    "version": 3
   },
   "file_extension": ".py",
   "mimetype": "text/x-python",
   "name": "python",
   "nbconvert_exporter": "python",
   "pygments_lexer": "ipython3",
   "version": "3.10.13"
  }
 },
 "nbformat": 4,
 "nbformat_minor": 2
}
